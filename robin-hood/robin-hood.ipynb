{
 "cells": [
  {
   "cell_type": "markdown",
   "metadata": {},
   "source": [
    "# Robin Hood\n",
    "## Intro\n",
    "We are in a competition to win the archery contest in Sherwood. With our bow and arrows we shoot on a target and try to hit as close as possible to the center.\n",
    "\n",
    "The center of the target is represented by the values (0, 0) on the coordinate axes.\n",
    "\n",
    "![](images/arrows.jpg)\n",
    "\n",
    "## Goals:\n",
    "* data structures: lists, sets, tuples\n",
    "* logical operators: if-elif-else\n",
    "* loop: while/for\n",
    "* minimum (optional sorting)\n",
    "\n",
    "## Description:\n",
    "In the 2-dimensional space, a point can be defined by a pair of values that correspond to the horizontal coordinate (x) and the vertical coordinate (y). The space can be divided into 4 zones (quadrants): Q1, Q2, Q3, Q4. Whose single point of union is the point (0, 0).\n",
    "\n",
    "If a point is in Q1 both its x coordinate and the y are positive. I leave a link to wikipedia to familiarize yourself with these quadrants.\n",
    "\n",
    "https://en.wikipedia.org/wiki/Cartesian_coordinate_system\n",
    "\n",
    "https://en.wikipedia.org/wiki/Euclidean_distance\n",
    "\n",
    "## Shots\n",
    "```\n",
    "points = [(4, 5), (-0, 2), (4, 7), (1, -3), (3, -2), (4, 5),\n",
    "          (3, 2), (5, 7), (-5, 7), (2, 2), (-4, 5), (0, -2),\n",
    "          (-4, 7), (-1, 3), (-3, 2), (-4, -5), (-3, 2),\n",
    "          (5, 7), (5, 7), (2, 2), (9, 9), (-8, -9)]\n",
    "```\n",
    "\n",
    "## Tasks\n",
    "1. Robin Hood is famous for hitting an arrow with another arrow. Did you get it?\n",
    "2. Calculate how many arrows have fallen in each quadrant.\n",
    "3. Find the point closest to the center. Calculate its distance to the center. \n",
    "4. If the target has a radius of 9, calculate the number of arrows that must be picked up in the forest."
   ]
  },
  {
   "cell_type": "code",
   "execution_count": 1,
   "metadata": {},
   "outputs": [],
   "source": [
    "# Variables\n",
    "\n",
    "points = [(4, 5), (-0, 2), (4, 7), (1, -3), (3, -2), (4, 5),\n",
    "          (3, 2), (5, 7), (-5, 7), (2, 2), (-4, 5), (0, -2),\n",
    "          (-4, 7), (-1, 3), (-3, 2), (-4, -5), (-3, 2),\n",
    "          (5, 7), (5, 7), (2, 2), (9, 9), (-8, -9)]"
   ]
  },
  {
   "cell_type": "code",
   "execution_count": 1,
   "metadata": {},
   "outputs": [
    {
     "name": "stdout",
     "output_type": "stream",
     "text": [
      "True\n"
     ]
    }
   ],
   "source": [
    "# 1. Robin Hood is famous for hitting an arrow with another arrow. Did you get it?\n",
    "points = [(4, 5), (-0, 2), (4, 7), (1, -3), (3, -2), (4, 5),\n",
    "          (3, 2), (5, 7), (-5, 7), (2, 2), (-4, 5), (0, -2),\n",
    "          (-4, 7), (-1, 3), (-3, 2), (-4, -5), (-3, 2),\n",
    "          (5, 7), (5, 7), (2, 2), (9, 9), (-8, -9)]\n",
    "i = 0\n",
    "j = 1\n",
    "number = False\n",
    "while i <= len(points):\n",
    "    while j < len(points):\n",
    "        if(points[i] == points[j]):\n",
    "            number = True\n",
    "        j=j+1;\n",
    "    i=i+1;\n",
    "    j=i+1\n",
    "    \n",
    "print (number)\n",
    "    "
   ]
  },
  {
   "cell_type": "markdown",
   "metadata": {},
   "source": [
    "**Expected output**:\n",
    "```\n",
    "True\n",
    "```"
   ]
  },
  {
   "cell_type": "code",
   "execution_count": 17,
   "metadata": {},
   "outputs": [
    {
     "name": "stdout",
     "output_type": "stream",
     "text": [
      "10 6 2 2\n"
     ]
    }
   ],
   "source": [
    "# 2. Calculate how many arrows have fallen in each quadrant.\n",
    "points = [(4, 5), (-0, 2), (4, 7), (1, -3), (3, -2), (4, 5),\n",
    "          (3, 2), (5, 7), (-5, 7), (2, 2), (-4, 5), (0, -2),\n",
    "          (-4, 7), (-1, 3), (-3, 2), (-4, -5), (-3, 2),\n",
    "          (5, 7), (5, 7), (2, 2), (9, 9), (-8, -9)]\n",
    "n_arrows_1=0\n",
    "n_arrows_2=0\n",
    "n_arrows_3=0\n",
    "n_arrows_4=0\n",
    "\n",
    "for i, j in points:\n",
    "    if i>0 and j>0:\n",
    "        n_arrows_1+=1\n",
    "    if i<0 and j>0:\n",
    "        n_arrows_2+=1\n",
    "    if i<0 and j<0:\n",
    "        n_arrows_3+=1   \n",
    "    if i>0 and j<0:\n",
    "        n_arrows_4+=1\n",
    "print(n_arrows_1, n_arrows_2, n_arrows_3, n_arrows_4)\n"
   ]
  },
  {
   "cell_type": "markdown",
   "metadata": {},
   "source": [
    "**Expected output**:\n",
    "```\n",
    "(10, 6, 2, 2)\n",
    "```"
   ]
  },
  {
   "cell_type": "code",
   "execution_count": 9,
   "metadata": {},
   "outputs": [
    {
     "name": "stdout",
     "output_type": "stream",
     "text": [
      "The minimum distance is: 2.0\n"
     ]
    }
   ],
   "source": [
    "# 3. Find the point closest to the center. Calculate its distance to the center\n",
    "# Defining a function that calculates the distance to the center can help.\n",
    "points = [(4, 5), (-0, 2), (4, 7), (1, -3), (3, -2), (4, 5),\n",
    "          (3, 2), (5, 7), (-5, 7), (2, 2), (-4, 5), (0, -2),\n",
    "          (-4, 7), (-1, 3), (-3, 2), (-4, -5), (-3, 2),\n",
    "          (5, 7), (5, 7), (2, 2), (9, 9), (-8, -9)]\n",
    "import math\n",
    "\n",
    "def distance (x,y):\n",
    "    return math.sqrt((x)**2 + (y)**2)\n",
    "x_min = 0\n",
    "y_min = 0\n",
    "distance1 = []\n",
    "\n",
    "for x, y in points:\n",
    "    distance1.append(distance (x,y))\n",
    "\n",
    "minimum = min(distance1)\n",
    "\n",
    "print(\"The minimum distance is:\", minimum)\n"
   ]
  },
  {
   "cell_type": "markdown",
   "metadata": {},
   "source": [
    "**Expected output**:\n",
    "```\n",
    "(0, 2)\n",
    "2.0\n",
    "```"
   ]
  },
  {
   "cell_type": "code",
   "execution_count": 22,
   "metadata": {},
   "outputs": [
    {
     "name": "stdout",
     "output_type": "stream",
     "text": [
      "2\n"
     ]
    }
   ],
   "source": [
    "# 4. If the target has a radius of 9, calculate the number of arrows that \n",
    "# must be picked up in the forest.\n",
    "arrows=0\n",
    "for x, y in points:\n",
    "    distance1=distance (x, y)\n",
    "    if distance1>9:\n",
    "        arrows+=1\n",
    "print(arrows)"
   ]
  },
  {
   "cell_type": "markdown",
   "metadata": {},
   "source": [
    "**Expected output**:\n",
    "```\n",
    "[(9, 9), (-8, -9)]\n",
    "2\n",
    "```"
   ]
  },
  {
   "cell_type": "code",
   "execution_count": null,
   "metadata": {},
   "outputs": [],
   "source": []
  }
 ],
 "metadata": {
  "kernelspec": {
   "display_name": "Python 3",
   "language": "python",
   "name": "python3"
  },
  "language_info": {
   "codemirror_mode": {
    "name": "ipython",
    "version": 3
   },
   "file_extension": ".py",
   "mimetype": "text/x-python",
   "name": "python",
   "nbconvert_exporter": "python",
   "pygments_lexer": "ipython3",
   "version": "3.8.2"
  }
 },
 "nbformat": 4,
 "nbformat_minor": 2
}
